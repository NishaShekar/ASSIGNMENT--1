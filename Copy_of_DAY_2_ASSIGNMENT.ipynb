{
  "nbformat": 4,
  "nbformat_minor": 0,
  "metadata": {
    "colab": {
      "name": "Copy of DAY 2 ASSIGNMENT",
      "provenance": [],
      "collapsed_sections": [],
      "authorship_tag": "ABX9TyPgELe7K6TvRbqQvqFUACB6",
      "include_colab_link": true
    },
    "kernelspec": {
      "name": "python3",
      "display_name": "Python 3"
    },
    "language_info": {
      "name": "python"
    }
  },
  "cells": [
    {
      "cell_type": "markdown",
      "metadata": {
        "id": "view-in-github",
        "colab_type": "text"
      },
      "source": [
        "<a href=\"https://colab.research.google.com/github/NishaShekar/ASSIGNMENT--1/blob/main/Copy_of_DAY_2_ASSIGNMENT.ipynb\" target=\"_parent\"><img src=\"https://colab.research.google.com/assets/colab-badge.svg\" alt=\"Open In Colab\"/></a>"
      ]
    },
    {
      "cell_type": "code",
      "metadata": {
        "id": "ptVktKIkIVEv"
      },
      "source": [
        "## DAY 2 ASSINGMENT"
      ],
      "execution_count": null,
      "outputs": []
    },
    {
      "cell_type": "code",
      "metadata": {
        "colab": {
          "base_uri": "https://localhost:8080/"
        },
        "id": "e38xFQnLIbOz",
        "outputId": "d6812253-7c6b-4b47-8226-4972652858f0"
      },
      "source": [
        "def char_frequency (str1):\n",
        "  dict={}\n",
        "  for n in str1:\n",
        "    keys = dict.keys()\n",
        "    if n in keys:\n",
        "      dict[n] += 2\n",
        "    else:\n",
        "      dict[n] = 2\n",
        "  return dict\n",
        "ip = input(\"enter the string :\")\n",
        "print(\"The number of occurences of the string is\",char_frequency(ip))"
      ],
      "execution_count": null,
      "outputs": [
        {
          "output_type": "stream",
          "text": [
            "enter the string :telecommunication\n",
            "The number of occurences of the string is {'t': 4, 'e': 4, 'l': 2, 'c': 4, 'o': 4, 'm': 4, 'u': 2, 'n': 4, 'i': 4, 'a': 2}\n"
          ],
          "name": "stdout"
        }
      ]
    },
    {
      "cell_type": "code",
      "metadata": {
        "colab": {
          "base_uri": "https://localhost:8080/"
        },
        "id": "JSSM_kxOIsUn",
        "outputId": "7e982f45-08e7-4602-9674-c2bc246ec770"
      },
      "source": [
        "a=\"sjbit\"\n",
        "x=a.count(\"s\")\n",
        "y=a.count(\"j\")\n",
        "z=a.count(\"b\")\n",
        "xy=a.count(\"i\")\n",
        "xz=a.count(\"t\")\n",
        "txt=(\"The value of s-{} j-{} b-{} i-{} t-{}\").format(x,y,z,xy,xz)\n",
        "print(txt)"
      ],
      "execution_count": null,
      "outputs": [
        {
          "output_type": "stream",
          "text": [
            "The value of s-1 j-1 b-1 i-1 t-1\n"
          ],
          "name": "stdout"
        }
      ]
    },
    {
      "cell_type": "code",
      "metadata": {
        "id": "ZaBPfg5DLk1K"
      },
      "source": [
        ""
      ],
      "execution_count": null,
      "outputs": []
    }
  ]
}